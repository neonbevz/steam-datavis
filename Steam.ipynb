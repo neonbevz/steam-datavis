{
 "cells": [
  {
   "cell_type": "markdown",
   "metadata": {
    "colab_type": "text",
    "id": "IlIj3vLpaCtm"
   },
   "source": [
    "# **Steam data analysis**\n",
    "### Data from Steam API and SteamSpy, dataset by Craig Kelly <br/> Refactored and appended by Adriyan Bevz"
   ]
  },
  {
   "cell_type": "code",
   "execution_count": 1,
   "metadata": {
    "colab": {},
    "colab_type": "code",
    "id": "jkZmDvr_cDRu"
   },
   "outputs": [],
   "source": [
    "import pandas as pd\n",
    "import altair as alt\n",
    "import numpy as np"
   ]
  },
  {
   "cell_type": "code",
   "execution_count": 2,
   "metadata": {
    "colab": {
     "base_uri": "https://localhost:8080/",
     "height": 34
    },
    "colab_type": "code",
    "id": "iyoJ2AH7Ndnp",
    "outputId": "6909ce81-029c-4076-b104-bbfd10cbd509"
   },
   "outputs": [
    {
     "data": {
      "text/plain": [
       "DataTransformerRegistry.enable('json')"
      ]
     },
     "execution_count": 2,
     "metadata": {},
     "output_type": "execute_result"
    }
   ],
   "source": [
    "alt.renderers.enable('default')\n",
    "alt.data_transformers.enable('json')"
   ]
  },
  {
   "cell_type": "markdown",
   "metadata": {
    "colab_type": "text",
    "id": "QpwwfW7KaOmT"
   },
   "source": [
    "## **Load the datasets:**"
   ]
  },
  {
   "cell_type": "code",
   "execution_count": 3,
   "metadata": {
    "colab": {},
    "colab_type": "code",
    "id": "OM263fhEOqp0"
   },
   "outputs": [],
   "source": [
    "df = pd.read_csv('refactored.csv')"
   ]
  },
  {
   "cell_type": "markdown",
   "metadata": {
    "colab_type": "text",
    "id": "MpsMkzd0aTfz"
   },
   "source": [
    "## **Overview the columns:**"
   ]
  },
  {
   "cell_type": "code",
   "execution_count": 4,
   "metadata": {
    "colab": {
     "base_uri": "https://localhost:8080/",
     "height": 1000
    },
    "colab_type": "code",
    "id": "_6z3gwFLZUUo",
    "outputId": "e1b95e03-8617-43ee-baf0-392ee609cdbd"
   },
   "outputs": [
    {
     "name": "stdout",
     "output_type": "stream",
     "text": [
      "Unnamed: 0: 0\n",
      "Unnamed: 0.1: 0\n",
      "QueryID: 10\n",
      "ResponseID: 10\n",
      "QueryName: Counter-Strike\n",
      "ResponseName: Counter-Strike\n",
      "ReleaseDate: Nov 1 2000\n",
      "RequiredAge: 0\n",
      "DLCCount: 0\n",
      "Metacritic: 88\n",
      "RecommendationCount: 68991\n",
      "SteamSpyOwners: 13033334\n",
      "SteamSpyPlayersEstimate: 9140731\n",
      "IsFree: False\n",
      "PlatformWindows: True\n",
      "PlatformLinux: True\n",
      "PlatformMac: True\n",
      "PriceCurrency: USD\n",
      "PriceInitial: 9.99\n",
      "PriceFinal: 9.99\n",
      "Reviews:  \n",
      "SupportedLanguages: English French German Italian Spanish Simplified Chinese Traditional Chinese Korean\n",
      "Categories: Multiplayer\n",
      "Genres: Action\n",
      "ConcurrentPlayers: 16118\n",
      "DaysSinceRelease: 6998\n"
     ]
    }
   ],
   "source": [
    "fr = df.iloc[0]\n",
    "\n",
    "for c in df.columns:\n",
    "    print(c + \": \" + str(fr[c]))"
   ]
  },
  {
   "cell_type": "code",
   "execution_count": 5,
   "metadata": {},
   "outputs": [],
   "source": [
    "# https://gist.github.com/jlln/338b4b0b55bd6984f88\n",
    "\n",
    "def splitDataFrameList(target_df, target_column, separator):\n",
    "    ''' df = dataframe to split,\n",
    "    target_column = the column containing the values to split\n",
    "    separator = the symbol used to perform the split\n",
    "    returns: a dataframe with each entry for the target column separated, with each element moved into a new row. \n",
    "    The values in the other columns are duplicated across the newly divided rows.\n",
    "    '''\n",
    "    def splitListToRows(row, row_accumulator, target_column, separator):\n",
    "        if row[target_column] == None:\n",
    "            return\n",
    "        split_row = str(row[target_column]).split(separator)\n",
    "        for s in split_row:\n",
    "            new_row = row.to_dict()\n",
    "            new_row[target_column] = s\n",
    "            row_accumulator.append(new_row)\n",
    "    new_rows = []\n",
    "    target_df.apply(splitListToRows, axis=1, args = (new_rows, target_column, separator))\n",
    "    new_df = pd.DataFrame(new_rows)\n",
    "    return new_df"
   ]
  },
  {
   "cell_type": "markdown",
   "metadata": {},
   "source": [
    "## **Set scale for the charts:**"
   ]
  },
  {
   "cell_type": "code",
   "execution_count": 6,
   "metadata": {},
   "outputs": [],
   "source": [
    "SCALE = 1"
   ]
  },
  {
   "cell_type": "markdown",
   "metadata": {},
   "source": [
    "## **Refactor the columns:**"
   ]
  },
  {
   "cell_type": "code",
   "execution_count": 7,
   "metadata": {},
   "outputs": [],
   "source": [
    "category_exploded_df = splitDataFrameList(df, 'Categories', ',')\n",
    "genre_exploded_df = splitDataFrameList(df, 'Genres', ',')\n",
    "category_genre_exploded_df = splitDataFrameList(category_exploded_df, 'Genres', ',')"
   ]
  },
  {
   "cell_type": "markdown",
   "metadata": {
    "colab_type": "text",
    "id": "O7eCUYJbahtr"
   },
   "source": [
    "## **Game count by category and genre:**"
   ]
  },
  {
   "cell_type": "code",
   "execution_count": 8,
   "metadata": {
    "colab": {},
    "colab_type": "code",
    "id": "1ryhj_DSagOA"
   },
   "outputs": [
    {
     "data": {
      "text/html": [
       "\n",
       "<div id=\"altair-viz-1\"></div>\n",
       "<script type=\"text/javascript\">\n",
       "  (function(spec, embedOpt){\n",
       "    const outputDiv = document.getElementById(\"altair-viz-1\");\n",
       "    const paths = {\n",
       "      \"vega\": \"https://cdn.jsdelivr.net/npm//vega@5?noext\",\n",
       "      \"vega-lib\": \"https://cdn.jsdelivr.net/npm//vega-lib?noext\",\n",
       "      \"vega-lite\": \"https://cdn.jsdelivr.net/npm//vega-lite@4.0.0?noext\",\n",
       "      \"vega-embed\": \"https://cdn.jsdelivr.net/npm//vega-embed@6?noext\",\n",
       "    };\n",
       "\n",
       "    function loadScript(lib) {\n",
       "      return new Promise(function(resolve, reject) {\n",
       "        var s = document.createElement('script');\n",
       "        s.src = paths[lib];\n",
       "        s.async = true;\n",
       "        s.onload = () => resolve(paths[lib]);\n",
       "        s.onerror = () => reject(`Error loading script: ${paths[lib]}`);\n",
       "        document.getElementsByTagName(\"head\")[0].appendChild(s);\n",
       "      });\n",
       "    }\n",
       "\n",
       "    function showError(err) {\n",
       "      outputDiv.innerHTML = `<div class=\"error\" style=\"color:red;\">${err}</div>`;\n",
       "      throw err;\n",
       "    }\n",
       "\n",
       "    function displayChart(vegaEmbed) {\n",
       "      vegaEmbed(outputDiv, spec, embedOpt)\n",
       "        .catch(err => showError(`Javascript Error: ${err.message}<br>This usually means there's a typo in your chart specification. See the javascript console for the full traceback.`));\n",
       "    }\n",
       "\n",
       "    if(typeof define === \"function\" && define.amd) {\n",
       "      requirejs.config({paths});\n",
       "      require([\"vega-embed\"], displayChart, err => showError(`Error loading script: ${err.message}`));\n",
       "    } else if (typeof vegaEmbed === \"function\") {\n",
       "      displayChart(vegaEmbed);\n",
       "    } else {\n",
       "      loadScript(\"vega\")\n",
       "        .then(() => loadScript(\"vega-lite\"))\n",
       "        .then(() => loadScript(\"vega-embed\"))\n",
       "        .catch(showError)\n",
       "        .then(() => displayChart(vegaEmbed));\n",
       "    }\n",
       "  })({\"config\": {\"view\": {\"continuousWidth\": 400, \"continuousHeight\": 300}}, \"vconcat\": [{\"data\": {\"url\": \"altair-data-c80f30210a9ac42223b720f46a518599.json\", \"format\": {\"type\": \"json\"}}, \"mark\": \"bar\", \"encoding\": {\"tooltip\": [{\"type\": \"quantitative\", \"aggregate\": \"count\"}], \"x\": {\"type\": \"nominal\", \"axis\": null, \"field\": \"Genres\"}, \"y\": {\"type\": \"quantitative\", \"aggregate\": \"count\"}}, \"height\": 200, \"width\": 500}, {\"hconcat\": [{\"data\": {\"url\": \"altair-data-3cb943df78f39d740e091c59caf55189.json\", \"format\": {\"type\": \"json\"}}, \"mark\": \"point\", \"encoding\": {\"size\": {\"type\": \"quantitative\", \"aggregate\": \"count\", \"scale\": {\"range\": [1, 1200]}}, \"tooltip\": [{\"type\": \"quantitative\", \"aggregate\": \"count\"}], \"x\": {\"type\": \"nominal\", \"axis\": {\"labelAngle\": -45}, \"field\": \"Genres\"}, \"y\": {\"type\": \"nominal\", \"field\": \"Categories\"}}, \"height\": 250, \"width\": 500}, {\"data\": {\"url\": \"altair-data-05bf98ea73a8960b8d673d19fda1b5bf.json\", \"format\": {\"type\": \"json\"}}, \"mark\": \"bar\", \"encoding\": {\"tooltip\": [{\"type\": \"quantitative\", \"aggregate\": \"count\"}], \"x\": {\"type\": \"quantitative\", \"aggregate\": \"count\"}, \"y\": {\"type\": \"nominal\", \"axis\": null, \"field\": \"Categories\"}}, \"height\": 250, \"width\": 200}]}], \"$schema\": \"https://vega.github.io/schema/vega-lite/v4.0.0.json\"}, {\"mode\": \"vega-lite\"});\n",
       "</script>"
      ],
      "text/plain": [
       "alt.VConcatChart(...)"
      ]
     },
     "execution_count": 8,
     "metadata": {},
     "output_type": "execute_result"
    }
   ],
   "source": [
    "category_genre_count_chart = alt.Chart(category_genre_exploded_df).mark_point().encode(\n",
    "    x=alt.X('Genres:N', axis=alt.Axis(labelAngle=-45)),\n",
    "    y=alt.Y('Categories:N'),\n",
    "    size=alt.Size('count()', scale=alt.Scale(range=[1, 1200 * SCALE])),\n",
    "    tooltip=alt.Tooltip(['count()'])\n",
    ").properties(\n",
    "    width=500 * SCALE,\n",
    "    height=250 * SCALE\n",
    ")\n",
    "\n",
    "category_count_bars = alt.Chart(category_exploded_df).mark_bar().encode(\n",
    "    x=alt.X('count()'),\n",
    "    y=alt.Y('Categories:N', axis=None),\n",
    "    tooltip=alt.Tooltip(['count()'])\n",
    ").properties(\n",
    "    width=200 * SCALE,\n",
    "    height=250 * SCALE\n",
    ")\n",
    "\n",
    "genre_count_bars = alt.Chart(genre_exploded_df).mark_bar().encode(\n",
    "    x=alt.X('Genres:N', axis=None),\n",
    "    y=alt.Y('count()'),\n",
    "    tooltip=alt.Tooltip(['count()'])\n",
    ").properties(\n",
    "    width=500 * SCALE,\n",
    "    height=200 * SCALE\n",
    ")\n",
    "\n",
    "genre_count_bars & (category_genre_count_chart | category_count_bars)"
   ]
  },
  {
   "cell_type": "markdown",
   "metadata": {
    "colab_type": "text",
    "id": "ZRK9U-ff-dhG"
   },
   "source": [
    "## **Owner count by category and genre:**"
   ]
  },
  {
   "cell_type": "code",
   "execution_count": 9,
   "metadata": {
    "colab": {},
    "colab_type": "code",
    "id": "AxkuXNZ5-ZD6"
   },
   "outputs": [
    {
     "data": {
      "text/html": [
       "\n",
       "<div id=\"altair-viz-2\"></div>\n",
       "<script type=\"text/javascript\">\n",
       "  (function(spec, embedOpt){\n",
       "    const outputDiv = document.getElementById(\"altair-viz-2\");\n",
       "    const paths = {\n",
       "      \"vega\": \"https://cdn.jsdelivr.net/npm//vega@5?noext\",\n",
       "      \"vega-lib\": \"https://cdn.jsdelivr.net/npm//vega-lib?noext\",\n",
       "      \"vega-lite\": \"https://cdn.jsdelivr.net/npm//vega-lite@4.0.0?noext\",\n",
       "      \"vega-embed\": \"https://cdn.jsdelivr.net/npm//vega-embed@6?noext\",\n",
       "    };\n",
       "\n",
       "    function loadScript(lib) {\n",
       "      return new Promise(function(resolve, reject) {\n",
       "        var s = document.createElement('script');\n",
       "        s.src = paths[lib];\n",
       "        s.async = true;\n",
       "        s.onload = () => resolve(paths[lib]);\n",
       "        s.onerror = () => reject(`Error loading script: ${paths[lib]}`);\n",
       "        document.getElementsByTagName(\"head\")[0].appendChild(s);\n",
       "      });\n",
       "    }\n",
       "\n",
       "    function showError(err) {\n",
       "      outputDiv.innerHTML = `<div class=\"error\" style=\"color:red;\">${err}</div>`;\n",
       "      throw err;\n",
       "    }\n",
       "\n",
       "    function displayChart(vegaEmbed) {\n",
       "      vegaEmbed(outputDiv, spec, embedOpt)\n",
       "        .catch(err => showError(`Javascript Error: ${err.message}<br>This usually means there's a typo in your chart specification. See the javascript console for the full traceback.`));\n",
       "    }\n",
       "\n",
       "    if(typeof define === \"function\" && define.amd) {\n",
       "      requirejs.config({paths});\n",
       "      require([\"vega-embed\"], displayChart, err => showError(`Error loading script: ${err.message}`));\n",
       "    } else if (typeof vegaEmbed === \"function\") {\n",
       "      displayChart(vegaEmbed);\n",
       "    } else {\n",
       "      loadScript(\"vega\")\n",
       "        .then(() => loadScript(\"vega-lite\"))\n",
       "        .then(() => loadScript(\"vega-embed\"))\n",
       "        .catch(showError)\n",
       "        .then(() => displayChart(vegaEmbed));\n",
       "    }\n",
       "  })({\"config\": {\"view\": {\"continuousWidth\": 400, \"continuousHeight\": 300}}, \"vconcat\": [{\"data\": {\"url\": \"altair-data-c80f30210a9ac42223b720f46a518599.json\", \"format\": {\"type\": \"json\"}}, \"mark\": \"bar\", \"encoding\": {\"tooltip\": [{\"type\": \"quantitative\", \"aggregate\": \"sum\", \"field\": \"SteamSpyOwners\"}], \"x\": {\"type\": \"nominal\", \"axis\": null, \"field\": \"Genres\"}, \"y\": {\"type\": \"quantitative\", \"aggregate\": \"sum\", \"field\": \"SteamSpyOwners\"}}, \"height\": 200, \"width\": 500}, {\"hconcat\": [{\"data\": {\"url\": \"altair-data-3cb943df78f39d740e091c59caf55189.json\", \"format\": {\"type\": \"json\"}}, \"mark\": \"point\", \"encoding\": {\"size\": {\"type\": \"quantitative\", \"aggregate\": \"sum\", \"field\": \"SteamSpyOwners\", \"scale\": {\"range\": [1, 1200]}}, \"tooltip\": [{\"type\": \"quantitative\", \"aggregate\": \"sum\", \"field\": \"SteamSpyOwners\"}], \"x\": {\"type\": \"nominal\", \"axis\": {\"labelAngle\": -45}, \"field\": \"Genres\"}, \"y\": {\"type\": \"nominal\", \"field\": \"Categories\"}}, \"height\": 250, \"width\": 500}, {\"data\": {\"url\": \"altair-data-05bf98ea73a8960b8d673d19fda1b5bf.json\", \"format\": {\"type\": \"json\"}}, \"mark\": \"bar\", \"encoding\": {\"tooltip\": [{\"type\": \"quantitative\", \"aggregate\": \"sum\", \"field\": \"SteamSpyOwners\"}], \"x\": {\"type\": \"quantitative\", \"aggregate\": \"sum\", \"field\": \"SteamSpyOwners\"}, \"y\": {\"type\": \"nominal\", \"axis\": null, \"field\": \"Categories\"}}, \"height\": 250, \"width\": 200}]}], \"$schema\": \"https://vega.github.io/schema/vega-lite/v4.0.0.json\"}, {\"mode\": \"vega-lite\"});\n",
       "</script>"
      ],
      "text/plain": [
       "alt.VConcatChart(...)"
      ]
     },
     "execution_count": 9,
     "metadata": {},
     "output_type": "execute_result"
    }
   ],
   "source": [
    "category_genre_owner_chart = alt.Chart(category_genre_exploded_df).mark_point().encode(\n",
    "    x=alt.X('Genres:N', axis=alt.Axis(labelAngle=-45)),\n",
    "    y=alt.Y('Categories:N'),\n",
    "    size=alt.Size('sum(SteamSpyOwners):Q', scale=alt.Scale(range=[1, 1200 * SCALE])),\n",
    "    tooltip=alt.Tooltip(['sum(SteamSpyOwners):Q'])\n",
    ").properties(\n",
    "    width=500 * SCALE,\n",
    "    height=250 * SCALE\n",
    ")\n",
    "\n",
    "category_owner_bars = alt.Chart(category_exploded_df).mark_bar().encode(\n",
    "    x=alt.X('sum(SteamSpyOwners):Q'),\n",
    "    y=alt.Y('Categories:N', axis=None),\n",
    "    tooltip=alt.Tooltip(['sum(SteamSpyOwners):Q'])\n",
    ").properties(\n",
    "    width=200 * SCALE,\n",
    "    height=250 * SCALE\n",
    ")\n",
    "\n",
    "genre_owner_bars = alt.Chart(genre_exploded_df).mark_bar().encode(\n",
    "    x=alt.X('Genres:N', axis=None),\n",
    "    y=alt.Y('sum(SteamSpyOwners):Q'),\n",
    "    tooltip=alt.Tooltip(['sum(SteamSpyOwners):Q'])\n",
    ").properties(\n",
    "    width=500 * SCALE,\n",
    "    height=200 * SCALE\n",
    ")\n",
    "\n",
    "genre_owner_bars & (category_genre_owner_chart | category_owner_bars)"
   ]
  },
  {
   "cell_type": "markdown",
   "metadata": {
    "colab_type": "text",
    "id": "-Y2RYvhl-j8P"
   },
   "source": [
    "## **Price vs owner count:**\n",
    "### Log axis ticks (haven't figured out how to make those work)"
   ]
  },
  {
   "cell_type": "code",
   "execution_count": 10,
   "metadata": {},
   "outputs": [],
   "source": [
    "# pd.cut(df['PriceInitial'], bins=20)"
   ]
  },
  {
   "cell_type": "code",
   "execution_count": 11,
   "metadata": {},
   "outputs": [
    {
     "data": {
      "text/html": [
       "\n",
       "<div id=\"altair-viz-3\"></div>\n",
       "<script type=\"text/javascript\">\n",
       "  (function(spec, embedOpt){\n",
       "    const outputDiv = document.getElementById(\"altair-viz-3\");\n",
       "    const paths = {\n",
       "      \"vega\": \"https://cdn.jsdelivr.net/npm//vega@5?noext\",\n",
       "      \"vega-lib\": \"https://cdn.jsdelivr.net/npm//vega-lib?noext\",\n",
       "      \"vega-lite\": \"https://cdn.jsdelivr.net/npm//vega-lite@4.0.0?noext\",\n",
       "      \"vega-embed\": \"https://cdn.jsdelivr.net/npm//vega-embed@6?noext\",\n",
       "    };\n",
       "\n",
       "    function loadScript(lib) {\n",
       "      return new Promise(function(resolve, reject) {\n",
       "        var s = document.createElement('script');\n",
       "        s.src = paths[lib];\n",
       "        s.async = true;\n",
       "        s.onload = () => resolve(paths[lib]);\n",
       "        s.onerror = () => reject(`Error loading script: ${paths[lib]}`);\n",
       "        document.getElementsByTagName(\"head\")[0].appendChild(s);\n",
       "      });\n",
       "    }\n",
       "\n",
       "    function showError(err) {\n",
       "      outputDiv.innerHTML = `<div class=\"error\" style=\"color:red;\">${err}</div>`;\n",
       "      throw err;\n",
       "    }\n",
       "\n",
       "    function displayChart(vegaEmbed) {\n",
       "      vegaEmbed(outputDiv, spec, embedOpt)\n",
       "        .catch(err => showError(`Javascript Error: ${err.message}<br>This usually means there's a typo in your chart specification. See the javascript console for the full traceback.`));\n",
       "    }\n",
       "\n",
       "    if(typeof define === \"function\" && define.amd) {\n",
       "      requirejs.config({paths});\n",
       "      require([\"vega-embed\"], displayChart, err => showError(`Error loading script: ${err.message}`));\n",
       "    } else if (typeof vegaEmbed === \"function\") {\n",
       "      displayChart(vegaEmbed);\n",
       "    } else {\n",
       "      loadScript(\"vega\")\n",
       "        .then(() => loadScript(\"vega-lite\"))\n",
       "        .then(() => loadScript(\"vega-embed\"))\n",
       "        .catch(showError)\n",
       "        .then(() => displayChart(vegaEmbed));\n",
       "    }\n",
       "  })({\"config\": {\"view\": {\"continuousWidth\": 400, \"continuousHeight\": 300}}, \"data\": {\"url\": \"altair-data-0dc168334d796bd2c6d80259bc4e0f7f.json\", \"format\": {\"type\": \"json\"}}, \"mark\": \"rect\", \"encoding\": {\"color\": {\"type\": \"quantitative\", \"aggregate\": \"count\"}, \"x\": {\"type\": \"quantitative\", \"bin\": {\"maxbins\": 100}, \"field\": \"logowners\"}, \"y\": {\"type\": \"quantitative\", \"bin\": {\"maxbins\": 40}, \"field\": \"logprice\"}}, \"transform\": [{\"filter\": \"((datum.PriceInitial > 0) && (datum.SteamSpyOwners > 0))\"}, {\"calculate\": \"log(datum.SteamSpyOwners)/log(10)\", \"as\": \"logowners\"}, {\"calculate\": \"log(datum.PriceInitial)/log(10)\", \"as\": \"logprice\"}], \"width\": 800, \"$schema\": \"https://vega.github.io/schema/vega-lite/v4.0.0.json\"}, {\"mode\": \"vega-lite\"});\n",
       "</script>"
      ],
      "text/plain": [
       "alt.Chart(...)"
      ]
     },
     "execution_count": 11,
     "metadata": {},
     "output_type": "execute_result"
    }
   ],
   "source": [
    "owners_upper = 10000000 #df['steamspyowners'].max()\n",
    "price_upper = 80 #df['priceinitial'].max()\n",
    "\n",
    "alt.Chart(df).transform_filter(\n",
    "    (alt.datum.PriceInitial > 0) & (alt.datum.SteamSpyOwners > 0)\n",
    ").transform_calculate(\n",
    "    logowners = 'log(datum.SteamSpyOwners)/log(10)',\n",
    "    logprice = 'log(datum.PriceInitial)/log(10)'\n",
    ").mark_rect().encode(\n",
    "    x=alt.X(\n",
    "        'logowners:Q',\n",
    "        bin=alt.Bin(maxbins=100),\n",
    "#         scale=alt.Scale(zero=False, domain=[1, owners_upper])\n",
    "    ),\n",
    "    y=alt.Y(\n",
    "        'logprice:Q', \n",
    "        bin=alt.Bin(maxbins=40),\n",
    "#         scale=alt.Scale(zero=False, domain=[1, price_upper])\n",
    "    ),\n",
    "    color=alt.Color('count():Q'),\n",
    ").properties(\n",
    "    width=800 * SCALE\n",
    ")"
   ]
  },
  {
   "cell_type": "markdown",
   "metadata": {},
   "source": [
    "## **Owner count vs. Concurrent Player count:**"
   ]
  },
  {
   "cell_type": "code",
   "execution_count": 13,
   "metadata": {},
   "outputs": [
    {
     "data": {
      "text/html": [
       "\n",
       "<div id=\"altair-viz-5\"></div>\n",
       "<script type=\"text/javascript\">\n",
       "  (function(spec, embedOpt){\n",
       "    const outputDiv = document.getElementById(\"altair-viz-5\");\n",
       "    const paths = {\n",
       "      \"vega\": \"https://cdn.jsdelivr.net/npm//vega@5?noext\",\n",
       "      \"vega-lib\": \"https://cdn.jsdelivr.net/npm//vega-lib?noext\",\n",
       "      \"vega-lite\": \"https://cdn.jsdelivr.net/npm//vega-lite@4.0.0?noext\",\n",
       "      \"vega-embed\": \"https://cdn.jsdelivr.net/npm//vega-embed@6?noext\",\n",
       "    };\n",
       "\n",
       "    function loadScript(lib) {\n",
       "      return new Promise(function(resolve, reject) {\n",
       "        var s = document.createElement('script');\n",
       "        s.src = paths[lib];\n",
       "        s.async = true;\n",
       "        s.onload = () => resolve(paths[lib]);\n",
       "        s.onerror = () => reject(`Error loading script: ${paths[lib]}`);\n",
       "        document.getElementsByTagName(\"head\")[0].appendChild(s);\n",
       "      });\n",
       "    }\n",
       "\n",
       "    function showError(err) {\n",
       "      outputDiv.innerHTML = `<div class=\"error\" style=\"color:red;\">${err}</div>`;\n",
       "      throw err;\n",
       "    }\n",
       "\n",
       "    function displayChart(vegaEmbed) {\n",
       "      vegaEmbed(outputDiv, spec, embedOpt)\n",
       "        .catch(err => showError(`Javascript Error: ${err.message}<br>This usually means there's a typo in your chart specification. See the javascript console for the full traceback.`));\n",
       "    }\n",
       "\n",
       "    if(typeof define === \"function\" && define.amd) {\n",
       "      requirejs.config({paths});\n",
       "      require([\"vega-embed\"], displayChart, err => showError(`Error loading script: ${err.message}`));\n",
       "    } else if (typeof vegaEmbed === \"function\") {\n",
       "      displayChart(vegaEmbed);\n",
       "    } else {\n",
       "      loadScript(\"vega\")\n",
       "        .then(() => loadScript(\"vega-lite\"))\n",
       "        .then(() => loadScript(\"vega-embed\"))\n",
       "        .catch(showError)\n",
       "        .then(() => displayChart(vegaEmbed));\n",
       "    }\n",
       "  })({\"config\": {\"view\": {\"continuousWidth\": 400, \"continuousHeight\": 300}, \"mark\": {\"opacity\": 0.1}}, \"data\": {\"url\": \"altair-data-0dc168334d796bd2c6d80259bc4e0f7f.json\", \"format\": {\"type\": \"json\"}}, \"mark\": \"circle\", \"encoding\": {\"x\": {\"type\": \"quantitative\", \"field\": \"SteamSpyOwners\", \"scale\": {\"base\": 10, \"type\": \"log\"}}, \"y\": {\"type\": \"quantitative\", \"field\": \"ConcurrentPlayers\", \"scale\": {\"base\": 10, \"type\": \"log\"}}}, \"height\": 500, \"transform\": [{\"filter\": \"((datum.SteamSpyOwners > 0) && (datum.ConcurrentPlayers > 0))\"}], \"width\": 800, \"$schema\": \"https://vega.github.io/schema/vega-lite/v4.0.0.json\"}, {\"mode\": \"vega-lite\"});\n",
       "</script>"
      ],
      "text/plain": [
       "alt.Chart(...)"
      ]
     },
     "execution_count": 13,
     "metadata": {},
     "output_type": "execute_result"
    }
   ],
   "source": [
    "owner_player_scatter = alt.Chart(df).transform_filter(\n",
    "    (alt.datum.SteamSpyOwners > 0) & (alt.datum.ConcurrentPlayers > 0)\n",
    ").mark_circle().encode(\n",
    "    x=alt.X(\n",
    "        'SteamSpyOwners:Q',\n",
    "        scale=alt.Scale(type='log', base=10)\n",
    "    ),\n",
    "    y=alt.Y(\n",
    "        'ConcurrentPlayers:Q',\n",
    "        scale=alt.Scale(type='log', base=10)\n",
    "    ),\n",
    ").properties(\n",
    "    width=800 * SCALE,\n",
    "    height=500 * SCALE\n",
    ").configure_mark(\n",
    "     opacity = .1\n",
    " )\n",
    "\n",
    "owner_player_scatter"
   ]
  },
  {
   "cell_type": "markdown",
   "metadata": {},
   "source": [
    "## **Mean Metacritic score by genre:**"
   ]
  },
  {
   "cell_type": "code",
   "execution_count": 33,
   "metadata": {},
   "outputs": [
    {
     "data": {
      "text/html": [
       "\n",
       "<div id=\"altair-viz-23\"></div>\n",
       "<script type=\"text/javascript\">\n",
       "  (function(spec, embedOpt){\n",
       "    const outputDiv = document.getElementById(\"altair-viz-23\");\n",
       "    const paths = {\n",
       "      \"vega\": \"https://cdn.jsdelivr.net/npm//vega@5?noext\",\n",
       "      \"vega-lib\": \"https://cdn.jsdelivr.net/npm//vega-lib?noext\",\n",
       "      \"vega-lite\": \"https://cdn.jsdelivr.net/npm//vega-lite@4.0.0?noext\",\n",
       "      \"vega-embed\": \"https://cdn.jsdelivr.net/npm//vega-embed@6?noext\",\n",
       "    };\n",
       "\n",
       "    function loadScript(lib) {\n",
       "      return new Promise(function(resolve, reject) {\n",
       "        var s = document.createElement('script');\n",
       "        s.src = paths[lib];\n",
       "        s.async = true;\n",
       "        s.onload = () => resolve(paths[lib]);\n",
       "        s.onerror = () => reject(`Error loading script: ${paths[lib]}`);\n",
       "        document.getElementsByTagName(\"head\")[0].appendChild(s);\n",
       "      });\n",
       "    }\n",
       "\n",
       "    function showError(err) {\n",
       "      outputDiv.innerHTML = `<div class=\"error\" style=\"color:red;\">${err}</div>`;\n",
       "      throw err;\n",
       "    }\n",
       "\n",
       "    function displayChart(vegaEmbed) {\n",
       "      vegaEmbed(outputDiv, spec, embedOpt)\n",
       "        .catch(err => showError(`Javascript Error: ${err.message}<br>This usually means there's a typo in your chart specification. See the javascript console for the full traceback.`));\n",
       "    }\n",
       "\n",
       "    if(typeof define === \"function\" && define.amd) {\n",
       "      requirejs.config({paths});\n",
       "      require([\"vega-embed\"], displayChart, err => showError(`Error loading script: ${err.message}`));\n",
       "    } else if (typeof vegaEmbed === \"function\") {\n",
       "      displayChart(vegaEmbed);\n",
       "    } else {\n",
       "      loadScript(\"vega\")\n",
       "        .then(() => loadScript(\"vega-lite\"))\n",
       "        .then(() => loadScript(\"vega-embed\"))\n",
       "        .catch(showError)\n",
       "        .then(() => displayChart(vegaEmbed));\n",
       "    }\n",
       "  })({\"config\": {\"view\": {\"continuousWidth\": 400, \"continuousHeight\": 300}}, \"layer\": [{\"mark\": \"rect\", \"encoding\": {\"color\": {\"type\": \"quantitative\", \"aggregate\": \"mean\", \"field\": \"Metacritic\"}, \"tooltip\": [{\"type\": \"quantitative\", \"aggregate\": \"mean\", \"field\": \"Metacritic\"}, {\"type\": \"quantitative\", \"aggregate\": \"sum\", \"field\": \"SteamSpyOwners\"}], \"x\": {\"type\": \"nominal\", \"axis\": {\"labelAngle\": -45}, \"field\": \"Genres\"}, \"y\": {\"type\": \"nominal\", \"field\": \"Categories\"}}, \"transform\": [{\"filter\": \"((datum.Genres !== 'nan') && (datum.Categories !== 'nan'))\"}], \"width\": 700}, {\"mark\": {\"type\": \"text\", \"align\": \"center\", \"baseline\": \"middle\"}, \"encoding\": {\"color\": {\"value\": \"red\"}, \"text\": {\"type\": \"quantitative\", \"aggregate\": \"count\"}, \"tooltip\": [{\"type\": \"quantitative\", \"aggregate\": \"mean\", \"field\": \"Metacritic\"}, {\"type\": \"quantitative\", \"aggregate\": \"sum\", \"field\": \"SteamSpyOwners\"}], \"x\": {\"type\": \"nominal\", \"axis\": {\"labelAngle\": -45}, \"field\": \"Genres\"}, \"y\": {\"type\": \"nominal\", \"field\": \"Categories\"}}, \"transform\": [{\"filter\": \"((datum.Genres !== 'nan') && (datum.Categories !== 'nan'))\"}], \"width\": 700}], \"data\": {\"url\": \"altair-data-3cb943df78f39d740e091c59caf55189.json\", \"format\": {\"type\": \"json\"}}, \"$schema\": \"https://vega.github.io/schema/vega-lite/v4.0.0.json\"}, {\"mode\": \"vega-lite\"});\n",
       "</script>"
      ],
      "text/plain": [
       "alt.LayerChart(...)"
      ]
     },
     "execution_count": 33,
     "metadata": {},
     "output_type": "execute_result"
    }
   ],
   "source": [
    "metacritic_heat = alt.Chart(category_genre_exploded_df).transform_filter(\n",
    "    (alt.datum.Genres != 'nan') & (alt.datum.Categories != 'nan')\n",
    ").mark_rect().encode(\n",
    "    x=alt.X(\n",
    "        'Genres:N',\n",
    "        axis=alt.Axis(labelAngle=-45)\n",
    "    ),\n",
    "    y=alt.Y(\n",
    "        'Categories:N'\n",
    "    ),\n",
    "    color=alt.Color('mean(Metacritic):Q'),\n",
    "    tooltip=alt.Tooltip(['mean(Metacritic):Q', 'sum(SteamSpyOwners)'])\n",
    ").properties(\n",
    "    width=700 * SCALE\n",
    ")\n",
    "\n",
    "metacritic_text = metacritic_heat.mark_text(\n",
    "    align='center',\n",
    "    baseline='middle',\n",
    ").encode(\n",
    "    text='count()',\n",
    "    color=alt.value('red')\n",
    ").properties(\n",
    "    width=700 * SCALE\n",
    ")\n",
    "\n",
    "# metacritic_text + \n",
    "metacritic_heat + metacritic_text"
   ]
  },
  {
   "cell_type": "markdown",
   "metadata": {},
   "source": [
    "## **Metacritic score distribution:**"
   ]
  },
  {
   "cell_type": "code",
   "execution_count": 44,
   "metadata": {},
   "outputs": [
    {
     "data": {
      "text/html": [
       "\n",
       "<div id=\"altair-viz-33\"></div>\n",
       "<script type=\"text/javascript\">\n",
       "  (function(spec, embedOpt){\n",
       "    const outputDiv = document.getElementById(\"altair-viz-33\");\n",
       "    const paths = {\n",
       "      \"vega\": \"https://cdn.jsdelivr.net/npm//vega@5?noext\",\n",
       "      \"vega-lib\": \"https://cdn.jsdelivr.net/npm//vega-lib?noext\",\n",
       "      \"vega-lite\": \"https://cdn.jsdelivr.net/npm//vega-lite@4.0.0?noext\",\n",
       "      \"vega-embed\": \"https://cdn.jsdelivr.net/npm//vega-embed@6?noext\",\n",
       "    };\n",
       "\n",
       "    function loadScript(lib) {\n",
       "      return new Promise(function(resolve, reject) {\n",
       "        var s = document.createElement('script');\n",
       "        s.src = paths[lib];\n",
       "        s.async = true;\n",
       "        s.onload = () => resolve(paths[lib]);\n",
       "        s.onerror = () => reject(`Error loading script: ${paths[lib]}`);\n",
       "        document.getElementsByTagName(\"head\")[0].appendChild(s);\n",
       "      });\n",
       "    }\n",
       "\n",
       "    function showError(err) {\n",
       "      outputDiv.innerHTML = `<div class=\"error\" style=\"color:red;\">${err}</div>`;\n",
       "      throw err;\n",
       "    }\n",
       "\n",
       "    function displayChart(vegaEmbed) {\n",
       "      vegaEmbed(outputDiv, spec, embedOpt)\n",
       "        .catch(err => showError(`Javascript Error: ${err.message}<br>This usually means there's a typo in your chart specification. See the javascript console for the full traceback.`));\n",
       "    }\n",
       "\n",
       "    if(typeof define === \"function\" && define.amd) {\n",
       "      requirejs.config({paths});\n",
       "      require([\"vega-embed\"], displayChart, err => showError(`Error loading script: ${err.message}`));\n",
       "    } else if (typeof vegaEmbed === \"function\") {\n",
       "      displayChart(vegaEmbed);\n",
       "    } else {\n",
       "      loadScript(\"vega\")\n",
       "        .then(() => loadScript(\"vega-lite\"))\n",
       "        .then(() => loadScript(\"vega-embed\"))\n",
       "        .catch(showError)\n",
       "        .then(() => displayChart(vegaEmbed));\n",
       "    }\n",
       "  })({\"config\": {\"view\": {\"continuousWidth\": 400, \"continuousHeight\": 300}}, \"data\": {\"url\": \"altair-data-0dc168334d796bd2c6d80259bc4e0f7f.json\", \"format\": {\"type\": \"json\"}}, \"mark\": \"area\", \"encoding\": {\"x\": {\"type\": \"quantitative\", \"field\": \"value\"}, \"y\": {\"type\": \"quantitative\", \"field\": \"density\"}}, \"transform\": [{\"density\": \"Metacritic\", \"counts\": true, \"steps\": 200}], \"width\": 800, \"$schema\": \"https://vega.github.io/schema/vega-lite/v4.0.0.json\"}, {\"mode\": \"vega-lite\"});\n",
       "</script>"
      ],
      "text/plain": [
       "alt.Chart(...)"
      ]
     },
     "execution_count": 44,
     "metadata": {},
     "output_type": "execute_result"
    }
   ],
   "source": [
    "alt.Chart(df).transform_density(\n",
    "    density='Metacritic',\n",
    "#     bandwidth=0.3,\n",
    "#     groupby=['Measurement_type'],\n",
    "#     extent= [0, 100],\n",
    "    counts = True,\n",
    "    steps=200\n",
    ").mark_area().encode(\n",
    "    x=alt.X('value:Q'),\n",
    "    y=alt.Y('density:Q')\n",
    ").properties(\n",
    "    width=800 * SCALE\n",
    ")"
   ]
  },
  {
   "cell_type": "markdown",
   "metadata": {},
   "source": [
    "## **Correlation between score and owner count:**"
   ]
  },
  {
   "cell_type": "code",
   "execution_count": null,
   "metadata": {},
   "outputs": [],
   "source": []
  },
  {
   "cell_type": "markdown",
   "metadata": {},
   "source": [
    "## **Correlation between score and player count:**"
   ]
  },
  {
   "cell_type": "code",
   "execution_count": null,
   "metadata": {},
   "outputs": [],
   "source": []
  },
  {
   "cell_type": "markdown",
   "metadata": {},
   "source": [
    "## **Correlation between price and owner count:**"
   ]
  },
  {
   "cell_type": "code",
   "execution_count": null,
   "metadata": {},
   "outputs": [],
   "source": []
  },
  {
   "cell_type": "code",
   "execution_count": null,
   "metadata": {},
   "outputs": [],
   "source": []
  }
 ],
 "metadata": {
  "colab": {
   "name": "Steam.ipynb",
   "provenance": []
  },
  "kernelspec": {
   "display_name": "Python 3",
   "language": "python",
   "name": "python3"
  },
  "language_info": {
   "codemirror_mode": {
    "name": "ipython",
    "version": 3
   },
   "file_extension": ".py",
   "mimetype": "text/x-python",
   "name": "python",
   "nbconvert_exporter": "python",
   "pygments_lexer": "ipython3",
   "version": "3.7.4"
  }
 },
 "nbformat": 4,
 "nbformat_minor": 1
}
