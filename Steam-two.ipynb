{
 "cells": [
  {
   "cell_type": "markdown",
   "metadata": {
    "colab_type": "text",
    "id": "IlIj3vLpaCtm"
   },
   "source": [
    "# **Steam data analysis**\n",
    "### Data from Steam API and SteamSpy, dataset by Craig Kelly"
   ]
  },
  {
   "cell_type": "code",
   "execution_count": 4,
   "metadata": {
    "colab": {},
    "colab_type": "code",
    "id": "jkZmDvr_cDRu"
   },
   "outputs": [],
   "source": [
    "import pandas as pd\n",
    "import altair as alt\n",
    "import numpy as np"
   ]
  },
  {
   "cell_type": "code",
   "execution_count": 29,
   "metadata": {
    "colab": {
     "base_uri": "https://localhost:8080/",
     "height": 34
    },
    "colab_type": "code",
    "id": "iyoJ2AH7Ndnp",
    "outputId": "6909ce81-029c-4076-b104-bbfd10cbd509"
   },
   "outputs": [
    {
     "data": {
      "text/plain": [
       "DataTransformerRegistry.enable('json')"
      ]
     },
     "execution_count": 29,
     "metadata": {},
     "output_type": "execute_result"
    }
   ],
   "source": [
    "alt.renderers.enable('default')\n",
    "alt.data_transformers.enable('json')"
   ]
  },
  {
   "cell_type": "markdown",
   "metadata": {
    "colab_type": "text",
    "id": "QpwwfW7KaOmT"
   },
   "source": [
    "## **Load the datasets:**"
   ]
  },
  {
   "cell_type": "code",
   "execution_count": 35,
   "metadata": {
    "colab": {},
    "colab_type": "code",
    "id": "OM263fhEOqp0"
   },
   "outputs": [],
   "source": [
    "cg_df = pd.read_csv('craigkelly.csv')\n",
    "steamspy_df = pd.read_json('steamspy.json', orient='index').reset_index()"
   ]
  },
  {
   "cell_type": "markdown",
   "metadata": {
    "colab_type": "text",
    "id": "MpsMkzd0aTfz"
   },
   "source": [
    "## **Overview the columns:**"
   ]
  },
  {
   "cell_type": "code",
   "execution_count": 36,
   "metadata": {
    "colab": {
     "base_uri": "https://localhost:8080/",
     "height": 1000
    },
    "colab_type": "code",
    "id": "_6z3gwFLZUUo",
    "outputId": "e1b95e03-8617-43ee-baf0-392ee609cdbd"
   },
   "outputs": [
    {
     "name": "stdout",
     "output_type": "stream",
     "text": [
      "--- CraigKelly: ---\n",
      "QueryID: 10\n",
      "ResponseID: 10\n",
      "QueryName: Counter-Strike\n",
      "ResponseName: Counter-Strike\n",
      "ReleaseDate: Nov 1 2000\n",
      "RequiredAge: 0\n",
      "DemoCount: 0\n",
      "DeveloperCount: 1\n",
      "DLCCount: 0\n",
      "Metacritic: 88\n",
      "MovieCount: 0\n",
      "PackageCount: 1\n",
      "RecommendationCount: 68991\n",
      "PublisherCount: 1\n",
      "ScreenshotCount: 13\n",
      "SteamSpyOwners: 13033334\n",
      "SteamSpyOwnersVariance: 92789\n",
      "SteamSpyPlayersEstimate: 9140731\n",
      "SteamSpyPlayersVariance: 78136\n",
      "AchievementCount: 0\n",
      "AchievementHighlightedCount: 0\n",
      "ControllerSupport: False\n",
      "IsFree: False\n",
      "FreeVerAvail: False\n",
      "PurchaseAvail: True\n",
      "SubscriptionAvail: False\n",
      "PlatformWindows: True\n",
      "PlatformLinux: True\n",
      "PlatformMac: True\n",
      "PCReqsHaveMin: True\n",
      "PCReqsHaveRec: False\n",
      "LinuxReqsHaveMin: True\n",
      "LinuxReqsHaveRec: False\n",
      "MacReqsHaveMin: True\n",
      "MacReqsHaveRec: False\n",
      "CategorySinglePlayer: False\n",
      "CategoryMultiplayer: True\n",
      "CategoryCoop: False\n",
      "CategoryMMO: False\n",
      "CategoryInAppPurchase: False\n",
      "CategoryIncludeSrcSDK: False\n",
      "CategoryIncludeLevelEditor: False\n",
      "CategoryVRSupport: False\n",
      "GenreIsNonGame: False\n",
      "GenreIsIndie: False\n",
      "GenreIsAction: True\n",
      "GenreIsAdventure: False\n",
      "GenreIsCasual: False\n",
      "GenreIsStrategy: False\n",
      "GenreIsRPG: False\n",
      "GenreIsSimulation: False\n",
      "GenreIsEarlyAccess: False\n",
      "GenreIsFreeToPlay: False\n",
      "GenreIsSports: False\n",
      "GenreIsRacing: False\n",
      "GenreIsMassivelyMultiplayer: False\n",
      "PriceCurrency: USD\n",
      "PriceInitial: 9.99\n",
      "PriceFinal: 9.99\n",
      "SupportEmail:  \n",
      "SupportURL: http://steamcommunity.com/app/10\n",
      "AboutText: Play the worlds number 1 online action game. Engage in an incredibly realistic brand of terrorist warfare in this wildly popular team-based game. Ally with teammates to complete strategic missions. Take out enemy sites. Rescue hostages. Your role affects your teams success. Your teams success affects your role.\n",
      "Background: http://cdn.akamai.steamstatic.com/steam/apps/10/page_bg_generated_v6b.jpg?t=1447887426\n",
      "ShortDescrip:  \n",
      "DetailedDescrip: Play the worlds number 1 online action game. Engage in an incredibly realistic brand of terrorist warfare in this wildly popular team-based game. Ally with teammates to complete strategic missions. Take out enemy sites. Rescue hostages. Your role affects your teams success. Your teams success affects your role.\n",
      "DRMNotice:  \n",
      "ExtUserAcctNotice:  \n",
      "HeaderImage: http://cdn.akamai.steamstatic.com/steam/apps/10/header.jpg?t=1447887426\n",
      "LegalNotice:  \n",
      "Reviews:  \n",
      "SupportedLanguages: English French German Italian Spanish Simplified Chinese Traditional Chinese Korean\n",
      "Website: None\n",
      "PCMinReqsText: Minimum: 500 mhz processor 96mb ram 16mb video card Windows XP Mouse Keyboard Internet ConnectionRecommended: 800 mhz processor 128mb ram 32mb+ video card Windows XP Mouse Keyboard Internet Connection\n",
      "PCRecReqsText:  \n",
      "LinuxMinReqsText: Minimum: Linux Ubuntu 12.04 Dual-core from Intel or AMD at 2.8 GHz 1GB Memory nVidia GeForce 8600/9600GT ATI/AMD Radeaon HD2600/3600 (Graphic Drivers: nVidia 310 AMD 12.11) OpenGL 2.1 4GB Hard Drive Space OpenAL Compatible Sound Card\n",
      "LinuxRecReqsText:  \n",
      "MacMinReqsText: Minimum: OS X  Snow Leopard 10.6.3 1GB RAM 4GB Hard Drive SpaceNVIDIA GeForce 8 or higher ATI X1600 or higher or Intel HD 3000 or higher Mouse Keyboard Internet Connection\n",
      "MacRecReqsText:  \n",
      "--- SteamSpy: ---\n",
      "index: 10\n",
      "appid: 10\n",
      "average_2weeks: 850\n",
      "average_forever: 11163\n",
      "developer: Valve\n",
      "discount: 90.0\n",
      "initialprice: 999.0\n",
      "median_2weeks: 965\n",
      "median_forever: 271\n",
      "name: Counter-Strike\n",
      "negative: 3736\n",
      "owners: 20,000,000 .. 50,000,000\n",
      "positive: 143296\n",
      "price: 99.0\n",
      "publisher: Valve\n",
      "score_rank: \n",
      "userscore: 0\n"
     ]
    }
   ],
   "source": [
    "print(\"--- CraigKelly: ---\")\n",
    "cg_fr = cg_df.iloc[0]\n",
    "for c in cg_df.columns:\n",
    "    print(c + \": \" + str(fr[c]))\n",
    "print(\"--- SteamSpy: ---\")\n",
    "ss_fr = steamspy_df.iloc[0]\n",
    "for c in steamspy_df.columns:\n",
    "    print(str(c) + \": \" + str(ss_fr[c]))"
   ]
  },
  {
   "cell_type": "code",
   "execution_count": 37,
   "metadata": {},
   "outputs": [],
   "source": [
    "# https://gist.github.com/jlln/338b4b0b55bd6984f88\n",
    "\n",
    "def splitDataFrameList(cg_df,target_column,separator):\n",
    "    ''' cg_df = dataframe to split,\n",
    "    target_column = the column containing the values to split\n",
    "    separator = the symbol used to perform the split\n",
    "    returns: a dataframe with each entry for the target column separated, with each element moved into a new row. \n",
    "    The values in the other columns are duplicated across the newly divided rows.\n",
    "    '''\n",
    "    def splitListToRows(row,row_accumulator,target_column,separator):\n",
    "        if row[target_column] == None:\n",
    "            return\n",
    "        split_row = row[target_column].split(separator)\n",
    "        for s in split_row:\n",
    "            new_row = row.to_dict()\n",
    "            new_row[target_column] = s\n",
    "            row_accumulator.append(new_row)\n",
    "    new_rows = []\n",
    "    cg_df.apply(splitListToRows,axis=1,args = (new_rows,target_column,separator))\n",
    "    new_cg_df = pd.DataFrame(new_rows)\n",
    "    return new_cg_df"
   ]
  },
  {
   "cell_type": "markdown",
   "metadata": {},
   "source": [
    "## **Set scale for the charts:**"
   ]
  },
  {
   "cell_type": "code",
   "execution_count": 38,
   "metadata": {},
   "outputs": [],
   "source": [
    "SCALE = 1"
   ]
  },
  {
   "cell_type": "markdown",
   "metadata": {},
   "source": [
    "## **Refactor the columns:**"
   ]
  },
  {
   "cell_type": "code",
   "execution_count": 39,
   "metadata": {},
   "outputs": [],
   "source": [
    "category_names = cg_df.filter(regex='^category')\n",
    "categories_col = []\n",
    "for r in range(len(cg_df.index)):\n",
    "    categories = [category.replace('category', '') for category in category_names if cg_df[category][r]]\n",
    "    categories_col.append(','.join(categories) if len(categories) > 0 else None)\n",
    "cg_df['categories'] = categories_col\n",
    "\n",
    "genre_names = cg_df.filter(regex='^genreis')\n",
    "genres_col = []\n",
    "for r in range(len(cg_df.index)):\n",
    "    genres = [genre.replace('genreis', '') for genre in genre_names if cg_df[genre][r]]\n",
    "    genres_col.append(','.join(genres) if len(genres) > 0 else None)\n",
    "cg_df['genres'] = genres_col\n",
    "\n",
    "category_exploded_cg_df = splitDataFrameList(cg_df, 'categories', ',')\n",
    "genre_exploded_cg_df = splitDataFrameList(cg_df, 'genres', ',')\n",
    "category_genre_exploded_cg_df = splitDataFrameList(category_exploded_cg_df, 'genres', ',')\n",
    "\n",
    "i = 0\n",
    "\n",
    "avg_owners_col = []\n",
    "\n",
    "for r in range(len(steamspy_df.index)):\n",
    "    ownrs = steamspy_df['owners'][r].split(' .. ')\n",
    "    if len(ownrs) == 2:\n",
    "        ownrs = int(ownrs[0].replace(',', '')) + int(ownrs[0].replace(',', ''))\n",
    "    avg_owners_col.append(ownrs)\n",
    "    \n",
    "steamspy_df['avg_owners'] = avg_owners_col"
   ]
  },
  {
   "cell_type": "markdown",
   "metadata": {
    "colab_type": "text",
    "id": "O7eCUYJbahtr"
   },
   "source": [
    "## **Game count by category and genre:**"
   ]
  },
  {
   "cell_type": "code",
   "execution_count": null,
   "metadata": {
    "colab": {},
    "colab_type": "code",
    "id": "1ryhj_DSagOA"
   },
   "outputs": [],
   "source": [
    "category_genre_count_chart = alt.Chart(category_genre_exploded_cg_df).mark_point().encode(\n",
    "    x=alt.X('genres:N', axis=alt.Axis(labelAngle=-45)),\n",
    "    y=alt.Y('categories:N'),\n",
    "    size=alt.Size('count()', scale=alt.Scale(range=[1, 1200 * SCALE])),\n",
    "    tooltip=alt.Tooltip(['count()'])\n",
    ").properties(\n",
    "    width=500 * SCALE,\n",
    "    height=250 * SCALE\n",
    ")\n",
    "\n",
    "category_count_bars = alt.Chart(category_exploded_cg_df).mark_bar().encode(\n",
    "    x=alt.X('count()'),\n",
    "    y=alt.Y('categories:N', axis=None),\n",
    "    tooltip=alt.Tooltip(['count()'])\n",
    ").properties(\n",
    "    width=200 * SCALE,\n",
    "    height=250 * SCALE\n",
    ")\n",
    "\n",
    "genre_count_bars = alt.Chart(genre_exploded_cg_df).mark_bar().encode(\n",
    "    x=alt.X('genres:N', axis=None),\n",
    "    y=alt.Y('count()'),\n",
    "    tooltip=alt.Tooltip(['count()'])\n",
    ").properties(\n",
    "    width=500 * SCALE,\n",
    "    height=200 * SCALE\n",
    ")\n",
    "\n",
    "genre_count_bars & (category_genre_count_chart | category_count_bars)"
   ]
  },
  {
   "cell_type": "markdown",
   "metadata": {
    "colab_type": "text",
    "id": "ZRK9U-ff-dhG"
   },
   "source": [
    "## **Owner count by category and genre:**"
   ]
  },
  {
   "cell_type": "code",
   "execution_count": null,
   "metadata": {
    "colab": {},
    "colab_type": "code",
    "id": "AxkuXNZ5-ZD6"
   },
   "outputs": [],
   "source": [
    "category_genre_owner_chart = alt.Chart(category_genre_exploded_cg_df).mark_point().encode(\n",
    "    x=alt.X('genres:N', axis=alt.Axis(labelAngle=-45)),\n",
    "    y=alt.Y('categories:N'),\n",
    "    size=alt.Size('sum(steamspyowners)', scale=alt.Scale(range=[1, 1200 * SCALE])),\n",
    "    tooltip=alt.Tooltip(['sum(steamspyowners)'])\n",
    ").properties(\n",
    "    width=500 * SCALE,\n",
    "    height=250 * SCALE\n",
    ")\n",
    "\n",
    "category_owner_bars = alt.Chart(category_exploded_cg_df).mark_bar().encode(\n",
    "    x=alt.X('sum(steamspyowners)'),\n",
    "    y=alt.Y('categories:N', axis=None),\n",
    "    tooltip=alt.Tooltip(['sum(steamspyowners)'])\n",
    ").properties(\n",
    "    width=200 * SCALE,\n",
    "    height=250 * SCALE\n",
    ")\n",
    "\n",
    "genre_owner_bars = alt.Chart(genre_exploded_cg_df).mark_bar().encode(\n",
    "    x=alt.X('genres:N', axis=None),\n",
    "    y=alt.Y('sum(steamspyowners)'),\n",
    "    tooltip=alt.Tooltip(['sum(steamspyowners)'])\n",
    ").properties(\n",
    "    width=500 * SCALE,\n",
    "    height=200 * SCALE\n",
    ")\n",
    "\n",
    "genre_owner_bars & (category_genre_owner_chart | category_owner_bars)"
   ]
  },
  {
   "cell_type": "markdown",
   "metadata": {
    "colab_type": "text",
    "id": "-Y2RYvhl-j8P"
   },
   "source": [
    "## **Price vs owner count:**\n",
    "### Can't really get the log scale to work correctly, and linear scale is useless in this case"
   ]
  },
  {
   "cell_type": "code",
   "execution_count": 28,
   "metadata": {},
   "outputs": [
    {
     "data": {
      "application/javascript": [
       "const spec = {\"config\": {\"view\": {\"width\": 400, \"height\": 300}, \"mark\": {\"tooltip\": null}}, \"data\": {\"url\": \"altair-data-848495247f42dff1b9434ecbdfbc47d7.json\", \"format\": {\"type\": \"json\"}}, \"mark\": \"rect\", \"encoding\": {\"color\": {\"type\": \"quantitative\", \"aggregate\": \"count\"}, \"x\": {\"type\": \"quantitative\", \"bin\": {\"extent\": [1, 10000000], \"maxbins\": 100}, \"field\": \"steamspyowners\", \"scale\": {\"domain\": [1, 10000000], \"zero\": false}}, \"y\": {\"type\": \"quantitative\", \"bin\": {\"extent\": [1, 80], \"maxbins\": 40}, \"field\": \"priceinitial\", \"scale\": {\"domain\": [1, 80], \"zero\": false}}}, \"transform\": [{\"filter\": \"((datum.priceinitial > 0) && (datum.steamspyowners > 0))\"}], \"width\": 800, \"$schema\": \"https://vega.github.io/schema/vega-lite/v3.4.0.json\"};\n",
       "const opt = {};\n",
       "const type = \"vega-lite\";\n",
       "const id = \"0d1c1d16-1cc4-4e85-b3c7-54296d97c1fc\";\n",
       "\n",
       "const output_area = this;\n",
       "\n",
       "require([\"nbextensions/jupyter-vega/index\"], function(vega) {\n",
       "  const target = document.createElement(\"div\");\n",
       "  target.id = id;\n",
       "  target.className = \"vega-embed\";\n",
       "\n",
       "  const style = document.createElement(\"style\");\n",
       "  style.textContent = [\n",
       "    \".vega-embed .error p {\",\n",
       "    \"  color: firebrick;\",\n",
       "    \"  font-size: 14px;\",\n",
       "    \"}\",\n",
       "  ].join(\"\\\\n\");\n",
       "\n",
       "  // element is a jQuery wrapped DOM element inside the output area\n",
       "  // see http://ipython.readthedocs.io/en/stable/api/generated/\\\n",
       "  // IPython.display.html#IPython.display.Javascript.__init__\n",
       "  element[0].appendChild(target);\n",
       "  element[0].appendChild(style);\n",
       "\n",
       "  vega.render(\"#\" + id, spec, type, opt, output_area);\n",
       "}, function (err) {\n",
       "  if (err.requireType !== \"scripterror\") {\n",
       "    throw(err);\n",
       "  }\n",
       "});\n"
      ],
      "text/plain": [
       "<vega.vegalite.VegaLite at 0x124228910>"
      ]
     },
     "metadata": {
      "jupyter-vega": "#0d1c1d16-1cc4-4e85-b3c7-54296d97c1fc"
     },
     "output_type": "display_data"
    },
    {
     "data": {
      "text/plain": []
     },
     "execution_count": 28,
     "metadata": {},
     "output_type": "execute_result"
    },
    {
     "data": {
      "image/png": "[encoded data removed]"
     },
     "metadata": {
      "jupyter-vega": "#0d1c1d16-1cc4-4e85-b3c7-54296d97c1fc"
     },
     "output_type": "display_data"
    }
   ],
   "source": [
    "owners_upper = 10000000 #cg_df['steamspyowners'].max()\n",
    "price_upper = 80 #cg_df['priceinitial'].max()\n",
    "\n",
    "alt.Chart(cg_df).transform_filter(\n",
    "    (alt.datum.priceinitial > 0) & (alt.datum.steamspyowners > 0)\n",
    ").mark_rect().encode(\n",
    "    x=alt.X(\n",
    "        'steamspyowners:Q',\n",
    "        bin=alt.Bin(maxbins=100, extent=[1, owners_upper]),\n",
    "        scale=alt.Scale(zero=False, domain=[1, owners_upper])\n",
    "#         scale=alt.Scale(type='log', base=10, domain=[100, cg_df['steamspyowners'].max()])\n",
    "    ),\n",
    "    y=alt.Y(\n",
    "        'priceinitial:Q', \n",
    "        bin=alt.Bin(maxbins=40, extent=[1, price_upper]),\n",
    "        scale=alt.Scale(zero=False, domain=[1, price_upper])\n",
    "        #scale=alt.Scale(type='log', base=10, domain=[1, cg_df['priceinitial'].max()])\n",
    "    ),\n",
    "    color=alt.Color('count():Q'),\n",
    ").properties(\n",
    "    width=800 * SCALE\n",
    ")"
   ]
  },
  {
   "cell_type": "markdown",
   "metadata": {},
   "source": [
    "## **Owner count vs. Player count:**"
   ]
  },
  {
   "cell_type": "code",
   "execution_count": 21,
   "metadata": {},
   "outputs": [
    {
     "data": {
      "text/html": [
       "\n",
       "<div id=\"altair-viz-11\"></div>\n",
       "<script type=\"text/javascript\">\n",
       "  (function(spec, embedOpt){\n",
       "    const outputDiv = document.getElementById(\"altair-viz-11\");\n",
       "    const paths = {\n",
       "      \"vega\": \"https://cdn.jsdelivr.net/npm//vega@5?noext\",\n",
       "      \"vega-lib\": \"https://cdn.jsdelivr.net/npm//vega-lib?noext\",\n",
       "      \"vega-lite\": \"https://cdn.jsdelivr.net/npm//vega-lite@4.0.0?noext\",\n",
       "      \"vega-embed\": \"https://cdn.jsdelivr.net/npm//vega-embed@6?noext\",\n",
       "    };\n",
       "\n",
       "    function loadScript(lib) {\n",
       "      return new Promise(function(resolve, reject) {\n",
       "        var s = document.createElement('script');\n",
       "        s.src = paths[lib];\n",
       "        s.async = true;\n",
       "        s.onload = () => resolve(paths[lib]);\n",
       "        s.onerror = () => reject(`Error loading script: ${paths[lib]}`);\n",
       "        document.getElementsByTagName(\"head\")[0].appendChild(s);\n",
       "      });\n",
       "    }\n",
       "\n",
       "    function showError(err) {\n",
       "      outputDiv.innerHTML = `<div class=\"error\" style=\"color:red;\">${err}</div>`;\n",
       "      throw err;\n",
       "    }\n",
       "\n",
       "    function displayChart(vegaEmbed) {\n",
       "      vegaEmbed(outputDiv, spec, embedOpt)\n",
       "        .catch(err => showError(`Javascript Error: ${err.message}<br>This usually means there's a typo in your chart specification. See the javascript console for the full traceback.`));\n",
       "    }\n",
       "\n",
       "    if(typeof define === \"function\" && define.amd) {\n",
       "      requirejs.config({paths});\n",
       "      require([\"vega-embed\"], displayChart, err => showError(`Error loading script: ${err.message}`));\n",
       "    } else if (typeof vegaEmbed === \"function\") {\n",
       "      displayChart(vegaEmbed);\n",
       "    } else {\n",
       "      loadScript(\"vega\")\n",
       "        .then(() => loadScript(\"vega-lite\"))\n",
       "        .then(() => loadScript(\"vega-embed\"))\n",
       "        .catch(showError)\n",
       "        .then(() => displayChart(vegaEmbed));\n",
       "    }\n",
       "  })({\"config\": {\"view\": {\"continuousWidth\": 400, \"continuousHeight\": 300}}, \"vconcat\": [{\"mark\": \"circle\", \"encoding\": {\"x\": {\"type\": \"quantitative\", \"field\": \"steamspyowners\"}, \"y\": {\"type\": \"quantitative\", \"field\": \"steamspyplayersestimate\"}}, \"height\": 500, \"transform\": [{\"filter\": \"((datum.steamspyplayersestimate > 0) && (datum.steamspyowners > 0))\"}], \"width\": 800}, {\"mark\": \"line\", \"encoding\": {\"color\": {\"type\": \"nominal\", \"field\": \"degree\"}, \"x\": {\"type\": \"quantitative\", \"field\": \"steamspyowners\"}, \"y\": {\"type\": \"quantitative\", \"field\": \"steamspyplayersestimate\"}}, \"height\": 500, \"transform\": [{\"filter\": \"((datum.steamspyplayersestimate > 0) && (datum.steamspyowners > 0))\"}, {\"on\": \"x\", \"regression\": \"y\", \"method\": \"poly\", \"order\": 3, \"as\": [\"x\", \"3\"]}, {\"fold\": [\"3\"], \"as\": [\"degree\", \"y\"]}], \"width\": 800}], \"data\": {\"url\": \"altair-data-848495247f42dff1b9434ecbdfbc47d7.json\", \"format\": {\"type\": \"json\"}}, \"$schema\": \"https://vega.github.io/schema/vega-lite/v4.0.0.json\"}, {\"mode\": \"vega-lite\"});\n",
       "</script>"
      ],
      "text/plain": [
       "alt.VConcatChart(...)"
      ]
     },
     "execution_count": 21,
     "metadata": {},
     "output_type": "execute_result"
    }
   ],
   "source": [
    "degree_list = [1, 3, 5]\n",
    "\n",
    "owner_player_scatter = alt.Chart(steamspy_df).transform_filter(\n",
    "    (alt.datum.steamspyplayersestimate > 0) & (alt.datum.steamspyowners > 0)\n",
    ").mark_circle().encode(\n",
    "    x=alt.X(\n",
    "        'steamspyowners:Q',\n",
    "#         scale=alt.Scale(type='log', base=10)\n",
    "    ),\n",
    "    y=alt.Y(\n",
    "        'steamspyplayersestimate:Q',\n",
    "#         scale=alt.Scale(type='log', base=10)\n",
    "    ),\n",
    ").properties(\n",
    "    width=800 * SCALE,\n",
    "    height=500 * SCALE\n",
    ")\n",
    "\n",
    "owner_player_polynomial_fits = [\n",
    "    owner_player_scatter.transform_regression(\n",
    "        'x', 'y', method='poly', order=order, as_=['x', str(order)]\n",
    "    ).mark_line()\n",
    "    .transform_fold([str(order)], as_=['degree', 'y'])\n",
    "    .encode(alt.Color('degree:N'))\n",
    "    for order in degree_list\n",
    "]\n",
    "\n",
    "# alt.layer(owner_player_scatter, *owner_player_polynomial_fits).configure_mark(\n",
    "#     opacity = .1\n",
    "# )\n",
    "owner_player_scatter & owner_player_polynomial_fits[1]"
   ]
  },
  {
   "cell_type": "markdown",
   "metadata": {},
   "source": [
    "## **Mean Metacritic score by genre:**"
   ]
  },
  {
   "cell_type": "code",
   "execution_count": null,
   "metadata": {},
   "outputs": [],
   "source": []
  },
  {
   "cell_type": "markdown",
   "metadata": {},
   "source": [
    "## **Correlation between score and owner count:**"
   ]
  },
  {
   "cell_type": "code",
   "execution_count": null,
   "metadata": {},
   "outputs": [],
   "source": []
  },
  {
   "cell_type": "markdown",
   "metadata": {},
   "source": [
    "## **Correlation between score and player count:**"
   ]
  },
  {
   "cell_type": "code",
   "execution_count": null,
   "metadata": {},
   "outputs": [],
   "source": []
  },
  {
   "cell_type": "markdown",
   "metadata": {},
   "source": [
    "## **Correlation between price and owner count:**"
   ]
  },
  {
   "cell_type": "code",
   "execution_count": null,
   "metadata": {},
   "outputs": [],
   "source": []
  },
  {
   "cell_type": "code",
   "execution_count": null,
   "metadata": {},
   "outputs": [],
   "source": []
  }
 ],
 "metadata": {
  "colab": {
   "name": "Steam.ipynb",
   "provenance": []
  },
  "kernelspec": {
   "display_name": "Python 3",
   "language": "python",
   "name": "python3"
  },
  "language_info": {
   "codemirror_mode": {
    "name": "ipython",
    "version": 3
   },
   "file_extension": ".py",
   "mimetype": "text/x-python",
   "name": "python",
   "nbconvert_exporter": "python",
   "pygments_lexer": "ipython3",
   "version": "3.7.4"
  }
 },
 "nbformat": 4,
 "nbformat_minor": 1
}
